{
 "cells": [
  {
   "cell_type": "code",
   "execution_count": 2,
   "metadata": {},
   "outputs": [
    {
     "data": {
      "text/plain": [
       "<generator object foo at 0x000001681902C3C0>"
      ]
     },
     "execution_count": 2,
     "metadata": {},
     "output_type": "execute_result"
    }
   ],
   "source": [
    "def foo():\n",
    "    print(\"starting...\")\n",
    "    c = 2\n",
    "    while c:\n",
    "        res = yield 4\n",
    "        c = c - 1  \n",
    "        print(\"res:\", res)\n",
    "\n",
    "foo()"
   ]
  }
 ],
 "metadata": {
  "interpreter": {
   "hash": "22485c91ee57577e5786af68326c0ee386bef30dce124670df263e87a7b7d288"
  },
  "kernelspec": {
   "display_name": "Python 3.9.1 64-bit",
   "language": "python",
   "name": "python3"
  },
  "language_info": {
   "codemirror_mode": {
    "name": "ipython",
    "version": 3
   },
   "file_extension": ".py",
   "mimetype": "text/x-python",
   "name": "python",
   "nbconvert_exporter": "python",
   "pygments_lexer": "ipython3",
   "version": "3.9.1"
  },
  "orig_nbformat": 4
 },
 "nbformat": 4,
 "nbformat_minor": 2
}
